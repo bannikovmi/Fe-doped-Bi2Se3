{
 "cells": [
  {
   "cell_type": "code",
   "execution_count": 2,
   "metadata": {},
   "outputs": [
    {
     "data": {
      "text/plain": [
       "[<matplotlib.lines.Line2D at 0x209adfc9710>]"
      ]
     },
     "execution_count": 2,
     "metadata": {},
     "output_type": "execute_result"
    },
    {
     "data": {
      "image/png": "[encoded data removed]",
      "text/plain": [
       "<Figure size 640x480 with 1 Axes>"
      ]
     },
     "metadata": {},
     "output_type": "display_data"
    }
   ],
   "source": [
    "import math\n",
    "import numpy as np\n",
    "import matplotlib as mpl\n",
    "import matplotlib.pyplot as plt\n",
    "from matplotlib import rc\n",
    "\n",
    "from scipy import stats\n",
    "from matplotlib.patches import FancyArrowPatch, ArrowStyle\n",
    "import scipy.special as scs\n",
    "\n",
    "rc('text', usetex=True)\n",
    "rc('text.latex',preamble=r'\\usepackage[utf8]{inputenc}')\n",
    "rc('text.latex',preamble=r'\\usepackage[russian]{babel}')\n",
    "\n",
    "visible_ticks = {\n",
    "   \"top\": False,\n",
    "   \"right\": False\n",
    "}\n",
    "\n",
    "from matplotlib.ticker import AutoMinorLocator\n",
    "\n",
    "X = [1, 2, 3, 4, 5]\n",
    "plt.plot(X)"
   ]
  },
  {
   "cell_type": "markdown",
   "metadata": {},
   "source": [
    "Рисунки к распределениям: биномиальное, нормальное, Пуассона"
   ]
  },
  {
   "cell_type": "code",
   "execution_count": 3,
   "metadata": {},
   "outputs": [],
   "source": [
    "#############################################################################################\n",
    "# Probabilitiy distributions\n",
    "#############################################################################################\n",
    "\n",
    "def W_bin(N, M, p): #binomial distribution probabilities\n",
    "    '''\n",
    "    INPUT: \n",
    "        N {non-negative integer} --- number of attempts [dimless]\n",
    "        M {non-negative integer} --- number of successful attempts [dimless]\n",
    "        p {real} --- probability of success in a single attempt [dimless]\n",
    "    OUTPUT: \n",
    "        W_bin {real} --- result [dimless]\n",
    "    '''\n",
    "    return scs.binom(N, M) * p**M * (1-p)**(N-M)\n",
    "\n",
    "def W_norm(N, p, x): #normal distribution density (for illustration of central limit theorem)\n",
    "    '''\n",
    "    INPUT: \n",
    "        N {non-negative integer} --- number of attempts [dimless]\n",
    "        p {real} --- probability of success in a single attempt [dimless]\n",
    "        x {real} --- continuous equivalent to number of successes [dimless]\n",
    "    OUTPUT: \n",
    "        W_norm {real} --- result [dimless]\n",
    "    '''\n",
    "    x_avg = N*p #calculate average number of successes\n",
    "    x_std = np.sqrt(N*p*(1-p)) #calculate standart definition of number of successes\n",
    "    return np.exp(-0.5*((x-x_avg)/x_std)**2)/(x_std*np.sqrt(2*np.pi))\n",
    "\n",
    "def W_poisson(t, tau, M): #poisson distribution\n",
    "    '''\n",
    "    INPUT: \n",
    "        t {non-negative real} --- time of observation [s]\n",
    "        tau {non-negative real} --- average response time [s]\n",
    "        M {non-negative int} --- number of particles [dimless]\n",
    "    OUTPUT: \n",
    "        W_poisson {real} --- result [dimless]\n",
    "    '''\n",
    "    return (t/tau)**M * np.exp(-t/tau) / math.factorial(int(M))"
   ]
  },
  {
   "cell_type": "code",
   "execution_count": 4,
   "metadata": {
    "scrolled": false
   },
   "outputs": [
    {
     "ename": "ValueError",
     "evalue": "keyword grid_b is not recognized; valid keywords are ['size', 'width', 'color', 'tickdir', 'pad', 'labelsize', 'labelcolor', 'zorder', 'gridOn', 'tick1On', 'tick2On', 'label1On', 'label2On', 'length', 'direction', 'left', 'bottom', 'right', 'top', 'labelleft', 'labelbottom', 'labelright', 'labeltop', 'labelrotation', 'grid_agg_filter', 'grid_alpha', 'grid_animated', 'grid_antialiased', 'grid_clip_box', 'grid_clip_on', 'grid_clip_path', 'grid_color', 'grid_dash_capstyle', 'grid_dash_joinstyle', 'grid_dashes', 'grid_data', 'grid_drawstyle', 'grid_figure', 'grid_fillstyle', 'grid_gapcolor', 'grid_gid', 'grid_in_layout', 'grid_label', 'grid_linestyle', 'grid_linewidth', 'grid_marker', 'grid_markeredgecolor', 'grid_markeredgewidth', 'grid_markerfacecolor', 'grid_markerfacecoloralt', 'grid_markersize', 'grid_markevery', 'grid_mouseover', 'grid_path_effects', 'grid_picker', 'grid_pickradius', 'grid_rasterized', 'grid_sketch_params', 'grid_snap', 'grid_solid_capstyle', 'grid_solid_joinstyle', 'grid_transform', 'grid_url', 'grid_visible', 'grid_xdata', 'grid_ydata', 'grid_zorder', 'grid_aa', 'grid_c', 'grid_ds', 'grid_ls', 'grid_lw', 'grid_mec', 'grid_mew', 'grid_mfc', 'grid_mfcalt', 'grid_ms']",
     "output_type": "error",
     "traceback": [
      "\u001b[1;31m---------------------------------------------------------------------------\u001b[0m",
      "\u001b[1;31mValueError\u001b[0m                                Traceback (most recent call last)",
      "Cell \u001b[1;32mIn[4], line 13\u001b[0m\n\u001b[0;32m     11\u001b[0m plt\u001b[38;5;241m.\u001b[39mtick_params(axis\u001b[38;5;241m=\u001b[39m\u001b[38;5;124m'\u001b[39m\u001b[38;5;124mboth\u001b[39m\u001b[38;5;124m'\u001b[39m, which\u001b[38;5;241m=\u001b[39m\u001b[38;5;124m'\u001b[39m\u001b[38;5;124mmajor\u001b[39m\u001b[38;5;124m'\u001b[39m, direction\u001b[38;5;241m=\u001b[39m\u001b[38;5;124m'\u001b[39m\u001b[38;5;124min\u001b[39m\u001b[38;5;124m'\u001b[39m, width\u001b[38;5;241m=\u001b[39m\u001b[38;5;241m2\u001b[39m, length\u001b[38;5;241m=\u001b[39m\u001b[38;5;241m7\u001b[39m, labelsize\u001b[38;5;241m=\u001b[39m\u001b[38;5;241m35\u001b[39m\u001b[38;5;241m/\u001b[39m\u001b[38;5;241m1.25\u001b[39m, \u001b[38;5;241m*\u001b[39m\u001b[38;5;241m*\u001b[39mvisible_ticks)\n\u001b[0;32m     12\u001b[0m plt\u001b[38;5;241m.\u001b[39mtick_params(axis\u001b[38;5;241m=\u001b[39m\u001b[38;5;124m'\u001b[39m\u001b[38;5;124mboth\u001b[39m\u001b[38;5;124m'\u001b[39m, which\u001b[38;5;241m=\u001b[39m\u001b[38;5;124m'\u001b[39m\u001b[38;5;124mminor\u001b[39m\u001b[38;5;124m'\u001b[39m, direction\u001b[38;5;241m=\u001b[39m\u001b[38;5;124m'\u001b[39m\u001b[38;5;124min\u001b[39m\u001b[38;5;124m'\u001b[39m, width\u001b[38;5;241m=\u001b[39m\u001b[38;5;241m1.5\u001b[39m, length\u001b[38;5;241m=\u001b[39m\u001b[38;5;241m4\u001b[39m, labelsize\u001b[38;5;241m=\u001b[39m\u001b[38;5;241m8\u001b[39m, \u001b[38;5;241m*\u001b[39m\u001b[38;5;241m*\u001b[39mvisible_ticks)\n\u001b[1;32m---> 13\u001b[0m plt\u001b[38;5;241m.\u001b[39mgrid(b\u001b[38;5;241m=\u001b[39m\u001b[38;5;28;01mTrue\u001b[39;00m, which\u001b[38;5;241m=\u001b[39m\u001b[38;5;124m'\u001b[39m\u001b[38;5;124mmajor\u001b[39m\u001b[38;5;124m'\u001b[39m, color\u001b[38;5;241m=\u001b[39m\u001b[38;5;124m'\u001b[39m\u001b[38;5;124m0.65\u001b[39m\u001b[38;5;124m'\u001b[39m, linestyle\u001b[38;5;241m=\u001b[39m\u001b[38;5;124m'\u001b[39m\u001b[38;5;124m-\u001b[39m\u001b[38;5;124m'\u001b[39m, lw\u001b[38;5;241m=\u001b[39m\u001b[38;5;241m2\u001b[39m, alpha\u001b[38;5;241m=\u001b[39m\u001b[38;5;241m0.3\u001b[39m)\n\u001b[0;32m     14\u001b[0m plt\u001b[38;5;241m.\u001b[39mgrid(b\u001b[38;5;241m=\u001b[39m\u001b[38;5;28;01mTrue\u001b[39;00m, which\u001b[38;5;241m=\u001b[39m\u001b[38;5;124m'\u001b[39m\u001b[38;5;124mminor\u001b[39m\u001b[38;5;124m'\u001b[39m, color\u001b[38;5;241m=\u001b[39m\u001b[38;5;124m'\u001b[39m\u001b[38;5;124m0.65\u001b[39m\u001b[38;5;124m'\u001b[39m, linestyle\u001b[38;5;241m=\u001b[39m\u001b[38;5;124m'\u001b[39m\u001b[38;5;124m-\u001b[39m\u001b[38;5;124m'\u001b[39m, lw\u001b[38;5;241m=\u001b[39m\u001b[38;5;241m0.7\u001b[39m, alpha\u001b[38;5;241m=\u001b[39m\u001b[38;5;241m0.3\u001b[39m)\n\u001b[0;32m     16\u001b[0m p \u001b[38;5;241m=\u001b[39m \u001b[38;5;241m1\u001b[39m\u001b[38;5;241m/\u001b[39m\u001b[38;5;241m4\u001b[39m\n",
      "File \u001b[1;32mC:\\ProgramData\\anaconda3\\Lib\\site-packages\\matplotlib\\pyplot.py:2616\u001b[0m, in \u001b[0;36mgrid\u001b[1;34m(visible, which, axis, **kwargs)\u001b[0m\n\u001b[0;32m   2614\u001b[0m \u001b[38;5;129m@_copy_docstring_and_deprecators\u001b[39m(Axes\u001b[38;5;241m.\u001b[39mgrid)\n\u001b[0;32m   2615\u001b[0m \u001b[38;5;28;01mdef\u001b[39;00m \u001b[38;5;21mgrid\u001b[39m(visible\u001b[38;5;241m=\u001b[39m\u001b[38;5;28;01mNone\u001b[39;00m, which\u001b[38;5;241m=\u001b[39m\u001b[38;5;124m'\u001b[39m\u001b[38;5;124mmajor\u001b[39m\u001b[38;5;124m'\u001b[39m, axis\u001b[38;5;241m=\u001b[39m\u001b[38;5;124m'\u001b[39m\u001b[38;5;124mboth\u001b[39m\u001b[38;5;124m'\u001b[39m, \u001b[38;5;241m*\u001b[39m\u001b[38;5;241m*\u001b[39mkwargs):\n\u001b[1;32m-> 2616\u001b[0m     \u001b[38;5;28;01mreturn\u001b[39;00m gca()\u001b[38;5;241m.\u001b[39mgrid(visible\u001b[38;5;241m=\u001b[39mvisible, which\u001b[38;5;241m=\u001b[39mwhich, axis\u001b[38;5;241m=\u001b[39maxis, \u001b[38;5;241m*\u001b[39m\u001b[38;5;241m*\u001b[39mkwargs)\n",
      "File \u001b[1;32mC:\\ProgramData\\anaconda3\\Lib\\site-packages\\matplotlib\\axes\\_base.py:3194\u001b[0m, in \u001b[0;36m_AxesBase.grid\u001b[1;34m(self, visible, which, axis, **kwargs)\u001b[0m\n\u001b[0;32m   3192\u001b[0m _api\u001b[38;5;241m.\u001b[39mcheck_in_list([\u001b[38;5;124m'\u001b[39m\u001b[38;5;124mx\u001b[39m\u001b[38;5;124m'\u001b[39m, \u001b[38;5;124m'\u001b[39m\u001b[38;5;124my\u001b[39m\u001b[38;5;124m'\u001b[39m, \u001b[38;5;124m'\u001b[39m\u001b[38;5;124mboth\u001b[39m\u001b[38;5;124m'\u001b[39m], axis\u001b[38;5;241m=\u001b[39maxis)\n\u001b[0;32m   3193\u001b[0m \u001b[38;5;28;01mif\u001b[39;00m axis \u001b[38;5;129;01min\u001b[39;00m [\u001b[38;5;124m'\u001b[39m\u001b[38;5;124mx\u001b[39m\u001b[38;5;124m'\u001b[39m, \u001b[38;5;124m'\u001b[39m\u001b[38;5;124mboth\u001b[39m\u001b[38;5;124m'\u001b[39m]:\n\u001b[1;32m-> 3194\u001b[0m     \u001b[38;5;28mself\u001b[39m\u001b[38;5;241m.\u001b[39mxaxis\u001b[38;5;241m.\u001b[39mgrid(visible, which\u001b[38;5;241m=\u001b[39mwhich, \u001b[38;5;241m*\u001b[39m\u001b[38;5;241m*\u001b[39mkwargs)\n\u001b[0;32m   3195\u001b[0m \u001b[38;5;28;01mif\u001b[39;00m axis \u001b[38;5;129;01min\u001b[39;00m [\u001b[38;5;124m'\u001b[39m\u001b[38;5;124my\u001b[39m\u001b[38;5;124m'\u001b[39m, \u001b[38;5;124m'\u001b[39m\u001b[38;5;124mboth\u001b[39m\u001b[38;5;124m'\u001b[39m]:\n\u001b[0;32m   3196\u001b[0m     \u001b[38;5;28mself\u001b[39m\u001b[38;5;241m.\u001b[39myaxis\u001b[38;5;241m.\u001b[39mgrid(visible, which\u001b[38;5;241m=\u001b[39mwhich, \u001b[38;5;241m*\u001b[39m\u001b[38;5;241m*\u001b[39mkwargs)\n",
      "File \u001b[1;32mC:\\ProgramData\\anaconda3\\Lib\\site-packages\\matplotlib\\axis.py:1660\u001b[0m, in \u001b[0;36mAxis.grid\u001b[1;34m(self, visible, which, **kwargs)\u001b[0m\n\u001b[0;32m   1657\u001b[0m \u001b[38;5;28;01mif\u001b[39;00m which \u001b[38;5;129;01min\u001b[39;00m [\u001b[38;5;124m'\u001b[39m\u001b[38;5;124mmajor\u001b[39m\u001b[38;5;124m'\u001b[39m, \u001b[38;5;124m'\u001b[39m\u001b[38;5;124mboth\u001b[39m\u001b[38;5;124m'\u001b[39m]:\n\u001b[0;32m   1658\u001b[0m     gridkw[\u001b[38;5;124m'\u001b[39m\u001b[38;5;124mgridOn\u001b[39m\u001b[38;5;124m'\u001b[39m] \u001b[38;5;241m=\u001b[39m (\u001b[38;5;129;01mnot\u001b[39;00m \u001b[38;5;28mself\u001b[39m\u001b[38;5;241m.\u001b[39m_major_tick_kw[\u001b[38;5;124m'\u001b[39m\u001b[38;5;124mgridOn\u001b[39m\u001b[38;5;124m'\u001b[39m]\n\u001b[0;32m   1659\u001b[0m                         \u001b[38;5;28;01mif\u001b[39;00m visible \u001b[38;5;129;01mis\u001b[39;00m \u001b[38;5;28;01mNone\u001b[39;00m \u001b[38;5;28;01melse\u001b[39;00m visible)\n\u001b[1;32m-> 1660\u001b[0m     \u001b[38;5;28mself\u001b[39m\u001b[38;5;241m.\u001b[39mset_tick_params(which\u001b[38;5;241m=\u001b[39m\u001b[38;5;124m'\u001b[39m\u001b[38;5;124mmajor\u001b[39m\u001b[38;5;124m'\u001b[39m, \u001b[38;5;241m*\u001b[39m\u001b[38;5;241m*\u001b[39mgridkw)\n\u001b[0;32m   1661\u001b[0m \u001b[38;5;28mself\u001b[39m\u001b[38;5;241m.\u001b[39mstale \u001b[38;5;241m=\u001b[39m \u001b[38;5;28;01mTrue\u001b[39;00m\n",
      "File \u001b[1;32mC:\\ProgramData\\anaconda3\\Lib\\site-packages\\matplotlib\\axis.py:932\u001b[0m, in \u001b[0;36mAxis.set_tick_params\u001b[1;34m(self, which, reset, **kwargs)\u001b[0m\n\u001b[0;32m    919\u001b[0m \u001b[38;5;250m\u001b[39m\u001b[38;5;124;03m\"\"\"\u001b[39;00m\n\u001b[0;32m    920\u001b[0m \u001b[38;5;124;03mSet appearance parameters for ticks, ticklabels, and gridlines.\u001b[39;00m\n\u001b[0;32m    921\u001b[0m \n\u001b[1;32m   (...)\u001b[0m\n\u001b[0;32m    929\u001b[0m \u001b[38;5;124;03m    gridlines.\u001b[39;00m\n\u001b[0;32m    930\u001b[0m \u001b[38;5;124;03m\"\"\"\u001b[39;00m\n\u001b[0;32m    931\u001b[0m _api\u001b[38;5;241m.\u001b[39mcheck_in_list([\u001b[38;5;124m'\u001b[39m\u001b[38;5;124mmajor\u001b[39m\u001b[38;5;124m'\u001b[39m, \u001b[38;5;124m'\u001b[39m\u001b[38;5;124mminor\u001b[39m\u001b[38;5;124m'\u001b[39m, \u001b[38;5;124m'\u001b[39m\u001b[38;5;124mboth\u001b[39m\u001b[38;5;124m'\u001b[39m], which\u001b[38;5;241m=\u001b[39mwhich)\n\u001b[1;32m--> 932\u001b[0m kwtrans \u001b[38;5;241m=\u001b[39m \u001b[38;5;28mself\u001b[39m\u001b[38;5;241m.\u001b[39m_translate_tick_params(kwargs)\n\u001b[0;32m    934\u001b[0m \u001b[38;5;66;03m# the kwargs are stored in self._major/minor_tick_kw so that any\u001b[39;00m\n\u001b[0;32m    935\u001b[0m \u001b[38;5;66;03m# future new ticks will automatically get them\u001b[39;00m\n\u001b[0;32m    936\u001b[0m \u001b[38;5;28;01mif\u001b[39;00m reset:\n",
      "File \u001b[1;32mC:\\ProgramData\\anaconda3\\Lib\\site-packages\\matplotlib\\axis.py:1076\u001b[0m, in \u001b[0;36mAxis._translate_tick_params\u001b[1;34m(kw, reverse)\u001b[0m\n\u001b[0;32m   1074\u001b[0m \u001b[38;5;28;01mfor\u001b[39;00m key \u001b[38;5;129;01min\u001b[39;00m kw_:\n\u001b[0;32m   1075\u001b[0m     \u001b[38;5;28;01mif\u001b[39;00m key \u001b[38;5;129;01mnot\u001b[39;00m \u001b[38;5;129;01min\u001b[39;00m allowed_keys:\n\u001b[1;32m-> 1076\u001b[0m         \u001b[38;5;28;01mraise\u001b[39;00m \u001b[38;5;167;01mValueError\u001b[39;00m(\n\u001b[0;32m   1077\u001b[0m             \u001b[38;5;124m\"\u001b[39m\u001b[38;5;124mkeyword \u001b[39m\u001b[38;5;132;01m%s\u001b[39;00m\u001b[38;5;124m is not recognized; valid keywords are \u001b[39m\u001b[38;5;132;01m%s\u001b[39;00m\u001b[38;5;124m\"\u001b[39m\n\u001b[0;32m   1078\u001b[0m             \u001b[38;5;241m%\u001b[39m (key, allowed_keys))\n\u001b[0;32m   1079\u001b[0m kwtrans\u001b[38;5;241m.\u001b[39mupdate(kw_)\n\u001b[0;32m   1080\u001b[0m \u001b[38;5;28;01mreturn\u001b[39;00m kwtrans\n",
      "\u001b[1;31mValueError\u001b[0m: keyword grid_b is not recognized; valid keywords are ['size', 'width', 'color', 'tickdir', 'pad', 'labelsize', 'labelcolor', 'zorder', 'gridOn', 'tick1On', 'tick2On', 'label1On', 'label2On', 'length', 'direction', 'left', 'bottom', 'right', 'top', 'labelleft', 'labelbottom', 'labelright', 'labeltop', 'labelrotation', 'grid_agg_filter', 'grid_alpha', 'grid_animated', 'grid_antialiased', 'grid_clip_box', 'grid_clip_on', 'grid_clip_path', 'grid_color', 'grid_dash_capstyle', 'grid_dash_joinstyle', 'grid_dashes', 'grid_data', 'grid_drawstyle', 'grid_figure', 'grid_fillstyle', 'grid_gapcolor', 'grid_gid', 'grid_in_layout', 'grid_label', 'grid_linestyle', 'grid_linewidth', 'grid_marker', 'grid_markeredgecolor', 'grid_markeredgewidth', 'grid_markerfacecolor', 'grid_markerfacecoloralt', 'grid_markersize', 'grid_markevery', 'grid_mouseover', 'grid_path_effects', 'grid_picker', 'grid_pickradius', 'grid_rasterized', 'grid_sketch_params', 'grid_snap', 'grid_solid_capstyle', 'grid_solid_joinstyle', 'grid_transform', 'grid_url', 'grid_visible', 'grid_xdata', 'grid_ydata', 'grid_zorder', 'grid_aa', 'grid_c', 'grid_ds', 'grid_ls', 'grid_lw', 'grid_mec', 'grid_mew', 'grid_mfc', 'grid_mfcalt', 'grid_ms']"
     ]
    },
    {
     "data": {
      "image/png": "[encoded data removed]",
      "text/plain": [
       "<Figure size 1500x800 with 1 Axes>"
      ]
     },
     "metadata": {},
     "output_type": "display_data"
    }
   ],
   "source": [
    "fig1, ax1 = plt.subplots(figsize=(15, 8))\n",
    "fig1.patch.set_facecolor('white')\n",
    "\n",
    "x_minor_locator = AutoMinorLocator(5)\n",
    "ax1.xaxis.set_minor_locator(x_minor_locator)\n",
    "y_minor_locator = AutoMinorLocator(5)\n",
    "ax1.yaxis.set_minor_locator(y_minor_locator)\n",
    "\n",
    "ax1.set_xlabel(r\"$M$\", fontsize=35/1.25)\n",
    "ax1.set_ylabel(r\"$W\\,(N, M)$\", fontsize=35/1.25)\n",
    "plt.tick_params(axis='both', which='major', direction='in', width=2, length=7, labelsize=35/1.25, **visible_ticks)\n",
    "plt.tick_params(axis='both', which='minor', direction='in', width=1.5, length=4, labelsize=8, **visible_ticks)\n",
    "plt.grid(b=True, which='major', color='0.65', linestyle='-', lw=2, alpha=0.3)\n",
    "plt.grid(b=True, which='minor', color='0.65', linestyle='-', lw=0.7, alpha=0.3)\n",
    "\n",
    "p = 1/4\n",
    "\n",
    "N = 50\n",
    "M = np.arange(0, N+1, 1)\n",
    "M_prob = W_bin(N, M, p)\n",
    "y_M = max(M_prob)\n",
    "\n",
    "M_mean = sum(M * M_prob)\n",
    "M_disp = sum(M**2 * M_prob) - M_mean**2\n",
    "M_std = np.sqrt(M_disp)\n",
    "\n",
    "m1 = math.ceil(M_mean - M_std)\n",
    "M1 = math.floor(M_mean + M_std)\n",
    "W1 = sum(M_prob[m1:M1+1])\n",
    "\n",
    "print(m1, M1, W1)\n",
    "\n",
    "m2 = math.ceil(M_mean - 2*M_std)\n",
    "M2 = math.floor(M_mean + 2*M_std)\n",
    "W2 = sum(M_prob[m2:M2+1])\n",
    "\n",
    "print(m2, M2, W2)\n",
    "\n",
    "m3 = math.ceil(M_mean - 3*M_std)\n",
    "M3 = math.floor(M_mean + 3*M_std) + 1\n",
    "W3 = sum(M_prob[m3:M3+1])\n",
    "\n",
    "print(m3, M3, W3)\n",
    "\n",
    "M_int = np.linspace(0, N, 100*N)\n",
    "M_prob_int = np.interp(M_int, M, M_prob)\n",
    "\n",
    "ax1.scatter(M, M_prob, color='black', s=80)\n",
    "ax1.plot(M, M_prob, color='black', lw=0.5)\n",
    "ax1.plot(M_int, W_norm(N, p, M_int), lw=2, color='red', ls='--')\n",
    "\n",
    "cond_1 = np.logical_and(M_int > M_mean - M_std, M_int < M_mean + M_std)\n",
    "cond_2 = np.logical_and(M_int > M_mean - 2*M_std, M_int < M_mean + 2*M_std)\n",
    "cond_3 = np.logical_and(M_int > M_mean - 3*M_std, M_int < M_mean + 3*M_std)\n",
    "\n",
    "ax1.fill_between(M_int[cond_1], M_prob_int[cond_1], alpha=0.1)\n",
    "ax1.fill_between(M_int[cond_2], M_prob_int[cond_2], alpha=0.1)\n",
    "ax1.fill_between(M_int[cond_3], M_prob_int[cond_3], alpha=0.1)\n",
    "\n",
    "ax1.axvline(x=M_mean, ls='--', c='k', lw=2)\n",
    "ax1.axvline(x=M_mean - M_std, ls='--', c='k', lw=2)\n",
    "ax1.axvline(x=M_mean + M_std, ls='--', c='k', lw=2)\n",
    "ax1.axvline(x=M_mean - 2*M_std, ls='--', c='k', lw=2)\n",
    "ax1.axvline(x=M_mean + 2*M_std, ls='--', c='k', lw=2)\n",
    "ax1.axvline(x=M_mean - 3*M_std, ls='--', c='k', lw=2)\n",
    "ax1.axvline(x=M_mean + 3*M_std, ls='--', c='k', lw=2)\n",
    "\n",
    "ax1.set_xlim(max(0, M_mean-5 * M_std), M_mean + 4 * M_std)\n",
    "ax1.set_ylim(bottom=0)\n",
    "\n",
    "plt.annotate('', xy=(M_mean-1.5*M_std, 0.06*y_M),  xycoords='data',\n",
    "            xytext=(M_mean-3.5*M_std, 0.45*y_M), textcoords='data',\n",
    "            arrowprops=dict(facecolor='white', shrink=0.05),\n",
    "            horizontalalignment='right', verticalalignment='top',\n",
    "            )\n",
    "\n",
    "\n",
    "plt.annotate('', xy=(M_mean+1.5*M_std, 0.06*y_M),  xycoords='data',\n",
    "            xytext=(M_mean+2.8*M_std, 0.45*y_M), textcoords='data',\n",
    "            arrowprops=dict(facecolor='white', shrink=0.05),\n",
    "            horizontalalignment='right', verticalalignment='top',\n",
    "            )\n",
    "\n",
    "\n",
    "plt.annotate('', xy=(M_mean-2*M_std, 0.01*y_M),  xycoords='data',\n",
    "            xytext=(M_mean-3.6*M_std, 0.18*y_M), textcoords='data',\n",
    "            arrowprops=dict(facecolor='white', shrink=0.05),\n",
    "            horizontalalignment='right', verticalalignment='top',\n",
    "            )\n",
    "\n",
    "\n",
    "plt.annotate('', xy=(M_mean+2.1*M_std, 0.01*y_M),  xycoords='data',\n",
    "            xytext=(M_mean+3.4*M_std, 0.18*y_M), textcoords='data',\n",
    "            arrowprops=dict(facecolor='white', shrink=0.05),\n",
    "            horizontalalignment='right', verticalalignment='top',\n",
    "            )\n",
    "\n",
    "plt.text(x=M_mean-0.45*M_std, y=0.15*y_M, s=(r'$%.1f$' % (100*W1))+ '\\%', backgroundcolor='white', fontsize=25)\n",
    "plt.text(x=M_mean+2.50*M_std, y=0.50*y_M, s=(r'$%.1f$' % (50*(W2-W1))) + '\\%', backgroundcolor='lightgrey', alpha=1, fontsize=25)\n",
    "plt.text(x=M_mean-3.50*M_std, y=0.50*y_M, s=(r'$%.1f$' % (50*(W2-W1))) + '\\%', backgroundcolor='lightgrey', alpha=1, fontsize=25)\n",
    "plt.text(x=M_mean-3.85*M_std, y=0.25*y_M, s=(r'$%.1f$' % (50*(W3-W2))) + '\\%', backgroundcolor='lightgrey', alpha=1, fontsize=25)\n",
    "plt.text(x=M_mean+3.2*M_std, y=0.25*y_M, s=(r'$%.1f$' % (50*(W3-W2))) + '\\%', backgroundcolor='lightgrey', alpha=1, fontsize=25)\n",
    "\n",
    "plt.annotate('', xy=(M_mean+1*M_std, 0.30*y_M), xytext=(M_mean - 1*M_std, 0.30*y_M), arrowprops=dict(arrowstyle='<->', mutation_scale=30))\n",
    "plt.annotate('', xy=(M_mean+2*M_std, 0.50*y_M), xytext=(M_mean - 2*M_std, 0.50*y_M), arrowprops=dict(arrowstyle='<->', mutation_scale=30))\n",
    "plt.annotate('', xy=(M_mean+3*M_std, 0.70*y_M), xytext=(M_mean - 3*M_std, 0.70*y_M), arrowprops=dict(arrowstyle='<->', mutation_scale=30))\n",
    "\n",
    "plt.text(x=M_mean-0.55*M_std, y=0.32*y_M, s=r'$\\pm\\sigma$', alpha=1, fontsize=25)\n",
    "plt.text(x=M_mean-0.65*M_std, y=0.52*y_M, s=r'$\\pm 2\\sigma$', alpha=1, fontsize=25)\n",
    "plt.text(x=M_mean-0.65*M_std, y=0.72*y_M, s=r'$\\pm 3\\sigma$', alpha=1, fontsize=25)\n",
    "\n",
    "plt.xticks(np.arange(0, 26, 5))\n",
    "# plt.yticks(np.arange(0, 1.05, 0.1))\n",
    "\n",
    "plt.tight_layout()\n",
    "plt.savefig('binomial_distribution.png')\n",
    "plt.savefig('binomial_distribution.pdf')\n",
    "\n",
    "print(W1, 0.5*(W2-W1), 0.5*(W3-W2))"
   ]
  },
  {
   "cell_type": "code",
   "execution_count": null,
   "metadata": {},
   "outputs": [],
   "source": [
    "fig2, ax2 = plt.subplots(figsize=(10, 8))\n",
    "fig2.patch.set_facecolor('white')\n",
    "\n",
    "x_minor_locator = AutoMinorLocator(5)\n",
    "ax2.xaxis.set_minor_locator(x_minor_locator)\n",
    "y_minor_locator = AutoMinorLocator(5)\n",
    "ax2.yaxis.set_minor_locator(y_minor_locator)\n",
    "\n",
    "ax2.set_xlabel(r\"$t/\\tau$\", fontsize=40)\n",
    "ax2.set_ylabel(r\"$W_M(t)$\", fontsize=40)\n",
    "plt.tick_params(axis='both', which='major', direction='in', width=2, length=7, labelsize=35, **visible_ticks)\n",
    "plt.tick_params(axis='both', which='minor', direction='in', width=1.5, length=4, labelsize=8, **visible_ticks)\n",
    "plt.grid(which='major', color='0.65', linestyle='-', lw=2, alpha=0.3)\n",
    "plt.grid(which='minor', color='0.65', linestyle='-', lw=0.7, alpha=0.3)\n",
    "\n",
    "tau = 1\n",
    "t = np.linspace(0, 10*tau, 300)\n",
    "\n",
    "colors = ['black', 'red', 'olive', 'navy', 'cyan']\n",
    "\n",
    "for M in range(4):\n",
    "    ax2.plot(t, W_poisson(t, tau, M), lw=3, color=colors[M], label=r'$W_{%i}(t)$' % M)\n",
    "\n",
    "    \n",
    "plt.xlim(0, 10.05)\n",
    "plt.ylim(0, 1.02)\n",
    "plt.xticks(np.arange(0, 10.05, 1))\n",
    "plt.yticks(np.arange(0, 1.02, 0.1))\n",
    "\n",
    "plt.legend(loc='best', fontsize=35)\n",
    "\n",
    "plt.tight_layout()\n",
    "plt.savefig('Poisson_time.png')\n",
    "plt.savefig('Poisson_time.pdf')"
   ]
  },
  {
   "cell_type": "code",
   "execution_count": null,
   "metadata": {},
   "outputs": [],
   "source": [
    "fig3, ax3 = plt.subplots(figsize=(10, 8))\n",
    "fig3.patch.set_facecolor('white')\n",
    "\n",
    "x_minor_locator = AutoMinorLocator(2)\n",
    "ax3.xaxis.set_minor_locator(x_minor_locator)\n",
    "y_minor_locator = AutoMinorLocator(5)\n",
    "ax3.yaxis.set_minor_locator(y_minor_locator)\n",
    "\n",
    "ax3.set_xlabel(r\"$M$\", fontsize=40)\n",
    "ax3.set_ylabel(r\"$W_M(t)$\", fontsize=40)\n",
    "plt.tick_params(axis='both', which='major', direction='in', width=2, length=7, labelsize=35, **visible_ticks)\n",
    "plt.tick_params(axis='both', which='minor', direction='in', width=1.5, length=4, labelsize=8, **visible_ticks)\n",
    "plt.grid(b=True, which='major', color='0.65', linestyle='-', lw=2, alpha=0.3)\n",
    "plt.grid(b=True, which='minor', color='0.65', linestyle='-', lw=0.7, alpha=0.3)\n",
    "\n",
    "colors = ['black', 'red', 'olive', 'navy', 'cyan']\n",
    "\n",
    "M = np.arange(0, 21, 1, dtype=int)\n",
    "time_factors = [2, 5, 10]\n",
    "\n",
    "for i in range(3):\n",
    "    Y = np.array([W_poisson(time_factors[i]*tau, tau, m) for m in M])\n",
    "    ax3.plot(M, Y, color=colors[i], label=r'$W_{M}(t = %i\\tau)$' % time_factors[i], ls='--', lw=1, marker = '.', markersize = 20)\n",
    "\n",
    "plt.xlim(0, 10.05)\n",
    "plt.ylim(0, 0.302)\n",
    "plt.xticks(np.arange(0, 20.05, 2))\n",
    "plt.yticks(np.arange(0, 0.301, 0.05))\n",
    "\n",
    "plt.legend(loc='best', fontsize=35)\n",
    "\n",
    "plt.tight_layout()\n",
    "plt.savefig('Poisson_number.png')\n",
    "plt.savefig('Poisson_number.pdf')"
   ]
  },
  {
   "cell_type": "markdown",
   "metadata": {},
   "source": [
    "К задаче 3.2 из дз"
   ]
  },
  {
   "cell_type": "code",
   "execution_count": null,
   "metadata": {},
   "outputs": [],
   "source": [
    "P0 = 101325 #[Pa] normal pressure\n",
    "k_B = 1.38e-23 #[J/K] Boltzmann's constant\n",
    "T = 300 #[K] normal temperature\n",
    "# V0 = 0.01*(0.3048)**3 #[m^3] volume\n",
    "V0 = 1\n",
    "\n",
    "print(\"V0:\\t%.2e [m^3]\" % V0)\n",
    "\n",
    "N = P0*V0/(k_B * T) # number of particles\n",
    "delta_N = 1/np.sqrt(N) # relative fluctuation of N\n",
    "\n",
    "print(\"N:\\t%.2e \" % N)\n",
    "print(\"delta_N:\\t%.2e \" % delta_N)"
   ]
  },
  {
   "cell_type": "markdown",
   "metadata": {},
   "source": [
    "К задаче 3.3 из дз"
   ]
  },
  {
   "cell_type": "code",
   "execution_count": null,
   "metadata": {},
   "outputs": [],
   "source": [
    "m0 = 0.02e-3 #[kg] mass of needle\n",
    "chi = 50 # magnetic permittivity of iron\n",
    "rho = 7.9e3 #[kg/m^3] density of iron\n",
    "B0 = 0.5e-4 #[T] field intensity\n",
    "mu_0 = 1.257e-6 #[H/m] vacuum permittivity\n",
    "\n",
    "V = m0/rho #[m^3] volume of needle\n",
    "print(\"V:\\t%.2e [m^3]\" % V)\n",
    "gamma = 2*V*chi*B0**2 / mu_0\n",
    "print(\"gamma:\\t%.2e [J]\" % gamma)\n",
    "\n",
    "sigma_phi = (k_B * T / gamma)**(1/2)\n",
    "print(\"sigma_phi:\\t%.2e [rad]\" % sigma_phi)"
   ]
  },
  {
   "cell_type": "markdown",
   "metadata": {},
   "source": [
    "К задаче 3.4 из дз"
   ]
  },
  {
   "cell_type": "code",
   "execution_count": 12,
   "metadata": {},
   "outputs": [
    {
     "name": "stdout",
     "output_type": "stream",
     "text": [
      "w_m:\t7.84e-11\n",
      "N:\t1.10e+32\n",
      "M:\t8.63e+21\n",
      "delta_M:\t1.08e-11\n"
     ]
    }
   ],
   "source": [
    "V = 50 #[m^3] volume of room\n",
    "\n",
    "w_m = 10*np.exp(-25)/np.sqrt(np.pi)\n",
    "print(\"w_m:\\t%.2e\" % w_m)\n",
    "\n",
    "N = (P0/k_B*T)*V # number of particles in room\n",
    "print(\"N:\\t%.2e\" % N)\n",
    "\n",
    "M = N*w_m # number of particles with v>v_m\n",
    "print(\"M:\\t%.2e\" % M)\n",
    "delta_M = 1/np.sqrt(M) # relative fluctuation of M\n",
    "print(\"delta_M:\\t%.2e\" % delta_M)"
   ]
  },
  {
   "cell_type": "markdown",
   "metadata": {},
   "source": [
    "К задаче 3.5 из дз"
   ]
  },
  {
   "cell_type": "code",
   "execution_count": 14,
   "metadata": {},
   "outputs": [
    {
     "name": "stdout",
     "output_type": "stream",
     "text": [
      "sigma_I:\t1.68e-11 [A]\n"
     ]
    }
   ],
   "source": [
    "T = 77 #[K] temperature\n",
    "r = 50 #[Ohm] resistor resistance\n",
    "R = 100 #[Ohm] ampermeter resistance\n",
    "Delta_f = 10 #[Hz]\n",
    "\n",
    "sigma_I = np.sqrt(4*k_B*T*Delta_f / (R + r)) #[A]\n",
    "print(\"sigma_I:\\t%.2e [A]\" % sigma_I)"
   ]
  }
 ],
 "metadata": {
  "kernelspec": {
   "display_name": "Python 3 (ipykernel)",
   "language": "python",
   "name": "python3"
  },
  "language_info": {
   "codemirror_mode": {
    "name": "ipython",
    "version": 3
   },
   "file_extension": ".py",
   "mimetype": "text/x-python",
   "name": "python",
   "nbconvert_exporter": "python",
   "pygments_lexer": "ipython3",
   "version": "3.11.5"
  }
 },
 "nbformat": 4,
 "nbformat_minor": 4
}
